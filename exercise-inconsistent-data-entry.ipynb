{
 "cells": [
  {
   "cell_type": "markdown",
   "id": "considered-brook",
   "metadata": {
    "papermill": {
     "duration": 0.014595,
     "end_time": "2021-04-01T04:37:25.490823",
     "exception": false,
     "start_time": "2021-04-01T04:37:25.476228",
     "status": "completed"
    },
    "tags": []
   },
   "source": [
    "**This notebook is an exercise in the [Data Cleaning](https://www.kaggle.com/learn/data-cleaning) course.  You can reference the tutorial at [this link](https://www.kaggle.com/alexisbcook/inconsistent-data-entry).**\n",
    "\n",
    "---\n"
   ]
  },
  {
   "cell_type": "markdown",
   "id": "unlike-barrier",
   "metadata": {
    "papermill": {
     "duration": 0.013392,
     "end_time": "2021-04-01T04:37:25.517985",
     "exception": false,
     "start_time": "2021-04-01T04:37:25.504593",
     "status": "completed"
    },
    "tags": []
   },
   "source": [
    "In this exercise, you'll apply what you learned in the **Inconsistent data entry** tutorial.\n",
    "\n",
    "# Setup\n",
    "\n",
    "The questions below will give you feedback on your work. Run the following cell to set up the feedback system."
   ]
  },
  {
   "cell_type": "code",
   "execution_count": 1,
   "id": "recovered-bandwidth",
   "metadata": {
    "execution": {
     "iopub.execute_input": "2021-04-01T04:37:25.551139Z",
     "iopub.status.busy": "2021-04-01T04:37:25.550328Z",
     "iopub.status.idle": "2021-04-01T04:37:25.675352Z",
     "shell.execute_reply": "2021-04-01T04:37:25.674105Z"
    },
    "papermill": {
     "duration": 0.143813,
     "end_time": "2021-04-01T04:37:25.675544",
     "exception": false,
     "start_time": "2021-04-01T04:37:25.531731",
     "status": "completed"
    },
    "tags": []
   },
   "outputs": [
    {
     "name": "stdout",
     "output_type": "stream",
     "text": [
      "Setup Complete\n"
     ]
    }
   ],
   "source": [
    "from learntools.core import binder\n",
    "binder.bind(globals())\n",
    "from learntools.data_cleaning.ex5 import *\n",
    "print(\"Setup Complete\")"
   ]
  },
  {
   "cell_type": "markdown",
   "id": "helpful-husband",
   "metadata": {
    "papermill": {
     "duration": 0.013598,
     "end_time": "2021-04-01T04:37:25.703949",
     "exception": false,
     "start_time": "2021-04-01T04:37:25.690351",
     "status": "completed"
    },
    "tags": []
   },
   "source": [
    "# Get our environment set up\n",
    "\n",
    "The first thing we'll need to do is load in the libraries and dataset we'll be using.  We use the same dataset from the tutorial."
   ]
  },
  {
   "cell_type": "code",
   "execution_count": 2,
   "id": "different-background",
   "metadata": {
    "execution": {
     "iopub.execute_input": "2021-04-01T04:37:25.737798Z",
     "iopub.status.busy": "2021-04-01T04:37:25.737086Z",
     "iopub.status.idle": "2021-04-01T04:37:25.753246Z",
     "shell.execute_reply": "2021-04-01T04:37:25.752011Z"
    },
    "papermill": {
     "duration": 0.035561,
     "end_time": "2021-04-01T04:37:25.753428",
     "exception": false,
     "start_time": "2021-04-01T04:37:25.717867",
     "status": "completed"
    },
    "tags": []
   },
   "outputs": [],
   "source": [
    "# modules we'll use\n",
    "import pandas as pd\n",
    "import numpy as np\n",
    "\n",
    "# helpful modules\n",
    "import fuzzywuzzy\n",
    "from fuzzywuzzy import process\n",
    "import chardet\n",
    "\n",
    "# read in all our data\n",
    "professors = pd.read_csv(\"../input/pakistan-intellectual-capital/pakistan_intellectual_capital.csv\")\n",
    "\n",
    "# set seed for reproducibility\n",
    "np.random.seed(0)"
   ]
  },
  {
   "cell_type": "markdown",
   "id": "noted-metabolism",
   "metadata": {
    "papermill": {
     "duration": 0.01396,
     "end_time": "2021-04-01T04:37:25.782670",
     "exception": false,
     "start_time": "2021-04-01T04:37:25.768710",
     "status": "completed"
    },
    "tags": []
   },
   "source": [
    "Next, we'll redo all of the work that we did in the tutorial."
   ]
  },
  {
   "cell_type": "code",
   "execution_count": 3,
   "id": "velvet-change",
   "metadata": {
    "execution": {
     "iopub.execute_input": "2021-04-01T04:37:25.829900Z",
     "iopub.status.busy": "2021-04-01T04:37:25.828199Z",
     "iopub.status.idle": "2021-04-01T04:37:25.836330Z",
     "shell.execute_reply": "2021-04-01T04:37:25.835649Z"
    },
    "papermill": {
     "duration": 0.039279,
     "end_time": "2021-04-01T04:37:25.836473",
     "exception": false,
     "start_time": "2021-04-01T04:37:25.797194",
     "status": "completed"
    },
    "tags": []
   },
   "outputs": [
    {
     "name": "stdout",
     "output_type": "stream",
     "text": [
      "All done!\n"
     ]
    }
   ],
   "source": [
    "# convert to lower case\n",
    "professors['Country'] = professors['Country'].str.lower()\n",
    "# remove trailing white spaces\n",
    "professors['Country'] = professors['Country'].str.strip()\n",
    "\n",
    "# get the top 10 closest matches to \"south korea\"\n",
    "countries = professors['Country'].unique()\n",
    "matches = fuzzywuzzy.process.extract(\"south korea\", countries, limit=10, scorer=fuzzywuzzy.fuzz.token_sort_ratio)\n",
    "\n",
    "def replace_matches_in_column(df, column, string_to_match, min_ratio = 47):\n",
    "    # get a list of unique strings\n",
    "    strings = df[column].unique()\n",
    "    \n",
    "    # get the top 10 closest matches to our input string\n",
    "    matches = fuzzywuzzy.process.extract(string_to_match, strings, \n",
    "                                         limit=10, scorer=fuzzywuzzy.fuzz.token_sort_ratio)\n",
    "\n",
    "    # only get matches with a ratio > 90\n",
    "    close_matches = [matches[0] for matches in matches if matches[1] >= min_ratio]\n",
    "\n",
    "    # get the rows of all the close matches in our dataframe\n",
    "    rows_with_matches = df[column].isin(close_matches)\n",
    "\n",
    "    # replace all rows with close matches with the input matches \n",
    "    df.loc[rows_with_matches, column] = string_to_match\n",
    "    \n",
    "    # let us know the function's done\n",
    "    print(\"All done!\")\n",
    "    \n",
    "replace_matches_in_column(df=professors, column='Country', string_to_match=\"south korea\")\n",
    "countries = professors['Country'].unique()"
   ]
  },
  {
   "cell_type": "markdown",
   "id": "usual-civilian",
   "metadata": {
    "papermill": {
     "duration": 0.014319,
     "end_time": "2021-04-01T04:37:25.865559",
     "exception": false,
     "start_time": "2021-04-01T04:37:25.851240",
     "status": "completed"
    },
    "tags": []
   },
   "source": [
    "# 1) Examine another column\n",
    "\n",
    "Write code below to take a look at all the unique values in the \"Graduated from\" column."
   ]
  },
  {
   "cell_type": "code",
   "execution_count": 4,
   "id": "organized-hunter",
   "metadata": {
    "execution": {
     "iopub.execute_input": "2021-04-01T04:37:25.904700Z",
     "iopub.status.busy": "2021-04-01T04:37:25.903954Z",
     "iopub.status.idle": "2021-04-01T04:37:25.908631Z",
     "shell.execute_reply": "2021-04-01T04:37:25.907993Z"
    },
    "papermill": {
     "duration": 0.028609,
     "end_time": "2021-04-01T04:37:25.908792",
     "exception": false,
     "start_time": "2021-04-01T04:37:25.880183",
     "status": "completed"
    },
    "tags": []
   },
   "outputs": [
    {
     "data": {
      "text/plain": [
       "350"
      ]
     },
     "execution_count": 4,
     "metadata": {},
     "output_type": "execute_result"
    }
   ],
   "source": [
    "# TODO: Your code here\n",
    "\n",
    "grad = professors['Graduated from'].unique()\n",
    "len(grad)\n"
   ]
  },
  {
   "cell_type": "markdown",
   "id": "contained-hometown",
   "metadata": {
    "papermill": {
     "duration": 0.014791,
     "end_time": "2021-04-01T04:37:25.939056",
     "exception": false,
     "start_time": "2021-04-01T04:37:25.924265",
     "status": "completed"
    },
    "tags": []
   },
   "source": [
    "Do you notice any inconsistencies in the data?  Can any of the inconsistencies in the data be fixed by removing white spaces at the beginning and end of cells?\n",
    "\n",
    "Once you have answered these questions, run the code cell below to get credit for your work."
   ]
  },
  {
   "cell_type": "code",
   "execution_count": 5,
   "id": "convenient-estate",
   "metadata": {
    "execution": {
     "iopub.execute_input": "2021-04-01T04:37:25.975981Z",
     "iopub.status.busy": "2021-04-01T04:37:25.975241Z",
     "iopub.status.idle": "2021-04-01T04:37:25.981031Z",
     "shell.execute_reply": "2021-04-01T04:37:25.980242Z"
    },
    "papermill": {
     "duration": 0.025944,
     "end_time": "2021-04-01T04:37:25.981179",
     "exception": false,
     "start_time": "2021-04-01T04:37:25.955235",
     "status": "completed"
    },
    "tags": []
   },
   "outputs": [
    {
     "data": {
      "application/javascript": [
       "parent.postMessage({\"jupyterEvent\": \"custom.exercise_interaction\", \"data\": {\"outcomeType\": 1, \"valueTowardsCompletion\": 0.3333333333333333, \"interactionType\": 1, \"questionType\": 4, \"questionId\": \"1_ExamineProvince\", \"learnToolsVersion\": \"0.3.4\", \"failureMessage\": \"\", \"exceptionClass\": \"\", \"trace\": \"\"}}, \"*\")"
      ],
      "text/plain": [
       "<IPython.core.display.Javascript object>"
      ]
     },
     "metadata": {},
     "output_type": "display_data"
    },
    {
     "data": {
      "text/markdown": [
       "<span style=\"color:#33cc33\">Correct:</span> \n",
       "\n",
       "There are inconsistencies that can be fixed by removing white spaces at the beginning and end of cells.  For instance, \"University of Central Florida\" and \" University of Central Florida\" both appear in the column."
      ],
      "text/plain": [
       "Correct: \n",
       "\n",
       "There are inconsistencies that can be fixed by removing white spaces at the beginning and end of cells.  For instance, \"University of Central Florida\" and \" University of Central Florida\" both appear in the column."
      ]
     },
     "metadata": {},
     "output_type": "display_data"
    }
   ],
   "source": [
    "# Check your answer (Run this code cell to receive credit!)\n",
    "q1.check()"
   ]
  },
  {
   "cell_type": "code",
   "execution_count": 6,
   "id": "realistic-belief",
   "metadata": {
    "execution": {
     "iopub.execute_input": "2021-04-01T04:37:26.017461Z",
     "iopub.status.busy": "2021-04-01T04:37:26.016810Z",
     "iopub.status.idle": "2021-04-01T04:37:26.020071Z",
     "shell.execute_reply": "2021-04-01T04:37:26.020794Z"
    },
    "papermill": {
     "duration": 0.023456,
     "end_time": "2021-04-01T04:37:26.020973",
     "exception": false,
     "start_time": "2021-04-01T04:37:25.997517",
     "status": "completed"
    },
    "tags": []
   },
   "outputs": [],
   "source": [
    "# Line below will give you a hint\n",
    "#q1.hint()"
   ]
  },
  {
   "cell_type": "markdown",
   "id": "distinct-pressing",
   "metadata": {
    "papermill": {
     "duration": 0.016086,
     "end_time": "2021-04-01T04:37:26.053470",
     "exception": false,
     "start_time": "2021-04-01T04:37:26.037384",
     "status": "completed"
    },
    "tags": []
   },
   "source": [
    "# 2) Do some text pre-processing\n",
    "\n",
    "Convert every entry in the \"Graduated from\" column in the `professors` DataFrame to remove white spaces at the beginning and end of cells."
   ]
  },
  {
   "cell_type": "code",
   "execution_count": 7,
   "id": "endless-gazette",
   "metadata": {
    "execution": {
     "iopub.execute_input": "2021-04-01T04:37:26.089870Z",
     "iopub.status.busy": "2021-04-01T04:37:26.089080Z",
     "iopub.status.idle": "2021-04-01T04:37:26.101865Z",
     "shell.execute_reply": "2021-04-01T04:37:26.102486Z"
    },
    "papermill": {
     "duration": 0.032901,
     "end_time": "2021-04-01T04:37:26.102661",
     "exception": false,
     "start_time": "2021-04-01T04:37:26.069760",
     "status": "completed"
    },
    "tags": []
   },
   "outputs": [
    {
     "data": {
      "application/javascript": [
       "parent.postMessage({\"jupyterEvent\": \"custom.exercise_interaction\", \"data\": {\"outcomeType\": 1, \"valueTowardsCompletion\": 0.3333333333333333, \"interactionType\": 1, \"questionType\": 1, \"questionId\": \"2_TextProcessing\", \"learnToolsVersion\": \"0.3.4\", \"failureMessage\": \"\", \"exceptionClass\": \"\", \"trace\": \"\"}}, \"*\")"
      ],
      "text/plain": [
       "<IPython.core.display.Javascript object>"
      ]
     },
     "metadata": {},
     "output_type": "display_data"
    },
    {
     "data": {
      "text/markdown": [
       "<span style=\"color:#33cc33\">Correct</span>"
      ],
      "text/plain": [
       "Correct"
      ]
     },
     "metadata": {},
     "output_type": "display_data"
    }
   ],
   "source": [
    "# TODO: Your code here\n",
    "professors['Graduated from'] = professors['Graduated from'].str.strip()\n",
    "grad1 = professors['Graduated from'].unique()\n",
    "len(grad1)\n",
    "# Check your answer\n",
    "q2.check()"
   ]
  },
  {
   "cell_type": "code",
   "execution_count": 8,
   "id": "prostate-spending",
   "metadata": {
    "execution": {
     "iopub.execute_input": "2021-04-01T04:37:26.142148Z",
     "iopub.status.busy": "2021-04-01T04:37:26.141252Z",
     "iopub.status.idle": "2021-04-01T04:37:26.146157Z",
     "shell.execute_reply": "2021-04-01T04:37:26.145441Z"
    },
    "papermill": {
     "duration": 0.026257,
     "end_time": "2021-04-01T04:37:26.146311",
     "exception": false,
     "start_time": "2021-04-01T04:37:26.120054",
     "status": "completed"
    },
    "tags": []
   },
   "outputs": [],
   "source": [
    "# Lines below will give you a hint or solution code\n",
    "#q2.hint()\n",
    "#q2.solution()"
   ]
  },
  {
   "cell_type": "markdown",
   "id": "starting-canberra",
   "metadata": {
    "papermill": {
     "duration": 0.023045,
     "end_time": "2021-04-01T04:37:26.190490",
     "exception": false,
     "start_time": "2021-04-01T04:37:26.167445",
     "status": "completed"
    },
    "tags": []
   },
   "source": [
    "# 3) Continue working with countries\n",
    "\n",
    "In the tutorial, we focused on cleaning up inconsistencies in the \"Country\" column.  Run the code cell below to view the list of unique values that we ended with."
   ]
  },
  {
   "cell_type": "code",
   "execution_count": 9,
   "id": "automatic-laundry",
   "metadata": {
    "execution": {
     "iopub.execute_input": "2021-04-01T04:37:26.238774Z",
     "iopub.status.busy": "2021-04-01T04:37:26.238046Z",
     "iopub.status.idle": "2021-04-01T04:37:26.255454Z",
     "shell.execute_reply": "2021-04-01T04:37:26.256173Z"
    },
    "papermill": {
     "duration": 0.041992,
     "end_time": "2021-04-01T04:37:26.256431",
     "exception": false,
     "start_time": "2021-04-01T04:37:26.214439",
     "status": "completed"
    },
    "tags": []
   },
   "outputs": [
    {
     "data": {
      "text/plain": [
       "array(['australia', 'austria', 'canada', 'china', 'finland', 'france',\n",
       "       'germany', 'greece', 'hongkong', 'ireland', 'italy', 'japan',\n",
       "       'macau', 'malaysia', 'mauritius', 'netherland', 'new zealand',\n",
       "       'norway', 'pakistan', 'portugal', 'russian federation',\n",
       "       'saudi arabia', 'scotland', 'singapore', 'south korea', 'spain',\n",
       "       'sweden', 'thailand', 'turkey', 'uk', 'urbana', 'usa', 'usofa'],\n",
       "      dtype=object)"
      ]
     },
     "execution_count": 9,
     "metadata": {},
     "output_type": "execute_result"
    }
   ],
   "source": [
    "# get all the unique values in the 'City' column\n",
    "countries = professors['Country'].unique()\n",
    "\n",
    "# sort them alphabetically and then take a closer look\n",
    "countries.sort()\n",
    "countries"
   ]
  },
  {
   "cell_type": "markdown",
   "id": "blind-pennsylvania",
   "metadata": {
    "papermill": {
     "duration": 0.023926,
     "end_time": "2021-04-01T04:37:26.302971",
     "exception": false,
     "start_time": "2021-04-01T04:37:26.279045",
     "status": "completed"
    },
    "tags": []
   },
   "source": [
    "Take another look at the \"Country\" column and see if there's any more data cleaning we need to do.\n",
    "\n",
    "It looks like 'usa' and 'usofa' should be the same country.  Correct the \"Country\" column in the dataframe so that 'usofa' appears instead as 'usa'.\n",
    "\n",
    "**Use the most recent version of the DataFrame (with the whitespaces at the beginning and end of cells removed) from question 2.**"
   ]
  },
  {
   "cell_type": "code",
   "execution_count": 10,
   "id": "encouraging-fundamentals",
   "metadata": {
    "execution": {
     "iopub.execute_input": "2021-04-01T04:37:26.349475Z",
     "iopub.status.busy": "2021-04-01T04:37:26.348701Z",
     "iopub.status.idle": "2021-04-01T04:37:26.362287Z",
     "shell.execute_reply": "2021-04-01T04:37:26.361523Z"
    },
    "papermill": {
     "duration": 0.039123,
     "end_time": "2021-04-01T04:37:26.362438",
     "exception": false,
     "start_time": "2021-04-01T04:37:26.323315",
     "status": "completed"
    },
    "tags": []
   },
   "outputs": [
    {
     "name": "stdout",
     "output_type": "stream",
     "text": [
      "All done!\n"
     ]
    },
    {
     "data": {
      "application/javascript": [
       "parent.postMessage({\"jupyterEvent\": \"custom.exercise_interaction\", \"data\": {\"outcomeType\": 1, \"valueTowardsCompletion\": 0.3333333333333333, \"interactionType\": 1, \"questionType\": 1, \"questionId\": \"3_WorkingWithCities\", \"learnToolsVersion\": \"0.3.4\", \"failureMessage\": \"\", \"exceptionClass\": \"\", \"trace\": \"\"}}, \"*\")"
      ],
      "text/plain": [
       "<IPython.core.display.Javascript object>"
      ]
     },
     "metadata": {},
     "output_type": "display_data"
    },
    {
     "data": {
      "text/markdown": [
       "<span style=\"color:#33cc33\">Correct</span>"
      ],
      "text/plain": [
       "Correct"
      ]
     },
     "metadata": {},
     "output_type": "display_data"
    }
   ],
   "source": [
    "# TODO: Your code here!\n",
    "matches = fuzzywuzzy.process.extract(\"usa\", countries, limit=10, scorer=fuzzywuzzy.fuzz.token_sort_ratio)\n",
    "matches\n",
    "replace_matches_in_column(df=professors, column='Country', string_to_match=\"usa\", min_ratio = 70)\n",
    "# Check your answer\n",
    "q3.check()"
   ]
  },
  {
   "cell_type": "code",
   "execution_count": 11,
   "id": "sophisticated-nicholas",
   "metadata": {
    "execution": {
     "iopub.execute_input": "2021-04-01T04:37:26.409587Z",
     "iopub.status.busy": "2021-04-01T04:37:26.408854Z",
     "iopub.status.idle": "2021-04-01T04:37:26.414532Z",
     "shell.execute_reply": "2021-04-01T04:37:26.415058Z"
    },
    "papermill": {
     "duration": 0.031904,
     "end_time": "2021-04-01T04:37:26.415230",
     "exception": false,
     "start_time": "2021-04-01T04:37:26.383326",
     "status": "completed"
    },
    "tags": []
   },
   "outputs": [
    {
     "data": {
      "application/javascript": [
       "parent.postMessage({\"jupyterEvent\": \"custom.exercise_interaction\", \"data\": {\"interactionType\": 3, \"questionType\": 1, \"questionId\": \"3_WorkingWithCities\", \"learnToolsVersion\": \"0.3.4\", \"valueTowardsCompletion\": 0.0, \"failureMessage\": \"\", \"exceptionClass\": \"\", \"trace\": \"\", \"outcomeType\": 4}}, \"*\")"
      ],
      "text/plain": [
       "<IPython.core.display.Javascript object>"
      ]
     },
     "metadata": {},
     "output_type": "display_data"
    },
    {
     "data": {
      "text/markdown": [
       "<span style=\"color:#33cc99\">Solution:</span> \n",
       "```python\n",
       "matches = fuzzywuzzy.process.extract(\"usa\", countries, limit=10, scorer=fuzzywuzzy.fuzz.token_sort_ratio)\n",
       "replace_matches_in_column(df=professors, column='Country', string_to_match=\"usa\", min_ratio=70)\n",
       "\n",
       "```"
      ],
      "text/plain": [
       "Solution: \n",
       "```python\n",
       "matches = fuzzywuzzy.process.extract(\"usa\", countries, limit=10, scorer=fuzzywuzzy.fuzz.token_sort_ratio)\n",
       "replace_matches_in_column(df=professors, column='Country', string_to_match=\"usa\", min_ratio=70)\n",
       "\n",
       "```"
      ]
     },
     "metadata": {},
     "output_type": "display_data"
    }
   ],
   "source": [
    "# Lines below will give you a hint or solution code\n",
    "#q3.hint()\n",
    "q3.solution()"
   ]
  },
  {
   "cell_type": "markdown",
   "id": "applied-calvin",
   "metadata": {
    "papermill": {
     "duration": 0.020836,
     "end_time": "2021-04-01T04:37:26.457443",
     "exception": false,
     "start_time": "2021-04-01T04:37:26.436607",
     "status": "completed"
    },
    "tags": []
   },
   "source": [
    "# Congratulations!\n",
    "\n",
    "Congratulations for completing the **Data Cleaning** course on Kaggle Learn!\n",
    "\n",
    "To practice your new skills, you're encouraged to download and investigate some of [Kaggle's Datasets](https://www.kaggle.com/datasets)."
   ]
  },
  {
   "cell_type": "markdown",
   "id": "different-vinyl",
   "metadata": {
    "papermill": {
     "duration": 0.020952,
     "end_time": "2021-04-01T04:37:26.499707",
     "exception": false,
     "start_time": "2021-04-01T04:37:26.478755",
     "status": "completed"
    },
    "tags": []
   },
   "source": [
    "---\n",
    "\n",
    "\n",
    "\n",
    "\n",
    "*Have questions or comments? Visit the [Learn Discussion forum](https://www.kaggle.com/learn-forum/172650) to chat with other Learners.*"
   ]
  }
 ],
 "metadata": {
  "kernelspec": {
   "display_name": "Python 3",
   "language": "python",
   "name": "python3"
  },
  "language_info": {
   "codemirror_mode": {
    "name": "ipython",
    "version": 3
   },
   "file_extension": ".py",
   "mimetype": "text/x-python",
   "name": "python",
   "nbconvert_exporter": "python",
   "pygments_lexer": "ipython3",
   "version": "3.7.9"
  },
  "papermill": {
   "default_parameters": {},
   "duration": 8.80832,
   "end_time": "2021-04-01T04:37:27.131475",
   "environment_variables": {},
   "exception": null,
   "input_path": "__notebook__.ipynb",
   "output_path": "__notebook__.ipynb",
   "parameters": {},
   "start_time": "2021-04-01T04:37:18.323155",
   "version": "2.3.2"
  }
 },
 "nbformat": 4,
 "nbformat_minor": 5
}
