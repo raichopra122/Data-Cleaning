{
 "cells": [
  {
   "cell_type": "markdown",
   "id": "forced-devices",
   "metadata": {
    "papermill": {
     "duration": 0.014843,
     "end_time": "2021-04-01T04:37:21.796062",
     "exception": false,
     "start_time": "2021-04-01T04:37:21.781219",
     "status": "completed"
    },
    "tags": []
   },
   "source": [
    "**This notebook is an exercise in the [Data Cleaning](https://www.kaggle.com/learn/data-cleaning) course.  You can reference the tutorial at [this link](https://www.kaggle.com/alexisbcook/character-encodings).**\n",
    "\n",
    "---\n"
   ]
  },
  {
   "cell_type": "markdown",
   "id": "shaped-purpose",
   "metadata": {
    "papermill": {
     "duration": 0.013945,
     "end_time": "2021-04-01T04:37:21.822947",
     "exception": false,
     "start_time": "2021-04-01T04:37:21.809002",
     "status": "completed"
    },
    "tags": []
   },
   "source": [
    "In this exercise, you'll apply what you learned in the **Character encodings** tutorial.\n",
    "\n",
    "# Setup\n",
    "\n",
    "The questions below will give you feedback on your work. Run the following cell to set up the feedback system."
   ]
  },
  {
   "cell_type": "code",
   "execution_count": 1,
   "id": "exotic-appliance",
   "metadata": {
    "execution": {
     "iopub.execute_input": "2021-04-01T04:37:21.855502Z",
     "iopub.status.busy": "2021-04-01T04:37:21.854863Z",
     "iopub.status.idle": "2021-04-01T04:37:21.957764Z",
     "shell.execute_reply": "2021-04-01T04:37:21.957114Z"
    },
    "papermill": {
     "duration": 0.122204,
     "end_time": "2021-04-01T04:37:21.957952",
     "exception": false,
     "start_time": "2021-04-01T04:37:21.835748",
     "status": "completed"
    },
    "tags": []
   },
   "outputs": [
    {
     "name": "stdout",
     "output_type": "stream",
     "text": [
      "Setup Complete\n"
     ]
    }
   ],
   "source": [
    "from learntools.core import binder\n",
    "binder.bind(globals())\n",
    "from learntools.data_cleaning.ex4 import *\n",
    "print(\"Setup Complete\")"
   ]
  },
  {
   "cell_type": "markdown",
   "id": "painted-lodging",
   "metadata": {
    "papermill": {
     "duration": 0.013658,
     "end_time": "2021-04-01T04:37:21.985215",
     "exception": false,
     "start_time": "2021-04-01T04:37:21.971557",
     "status": "completed"
    },
    "tags": []
   },
   "source": [
    "# Get our environment set up\n",
    "\n",
    "The first thing we'll need to do is load in the libraries we'll be using."
   ]
  },
  {
   "cell_type": "code",
   "execution_count": 2,
   "id": "asian-present",
   "metadata": {
    "execution": {
     "iopub.execute_input": "2021-04-01T04:37:22.017777Z",
     "iopub.status.busy": "2021-04-01T04:37:22.017077Z",
     "iopub.status.idle": "2021-04-01T04:37:22.021011Z",
     "shell.execute_reply": "2021-04-01T04:37:22.020324Z"
    },
    "papermill": {
     "duration": 0.022289,
     "end_time": "2021-04-01T04:37:22.021162",
     "exception": false,
     "start_time": "2021-04-01T04:37:21.998873",
     "status": "completed"
    },
    "tags": []
   },
   "outputs": [],
   "source": [
    "# modules we'll use\n",
    "import pandas as pd\n",
    "import numpy as np\n",
    "\n",
    "# helpful character encoding module\n",
    "import chardet\n",
    "\n",
    "# set seed for reproducibility\n",
    "np.random.seed(0)"
   ]
  },
  {
   "cell_type": "markdown",
   "id": "aggregate-trustee",
   "metadata": {
    "papermill": {
     "duration": 0.012595,
     "end_time": "2021-04-01T04:37:22.046901",
     "exception": false,
     "start_time": "2021-04-01T04:37:22.034306",
     "status": "completed"
    },
    "tags": []
   },
   "source": [
    "# 1) What are encodings?\n",
    "\n",
    "You're working with a dataset composed of bytes.  Run the code cell below to print a sample entry."
   ]
  },
  {
   "cell_type": "code",
   "execution_count": 3,
   "id": "nearby-freedom",
   "metadata": {
    "execution": {
     "iopub.execute_input": "2021-04-01T04:37:22.078846Z",
     "iopub.status.busy": "2021-04-01T04:37:22.078166Z",
     "iopub.status.idle": "2021-04-01T04:37:22.082441Z",
     "shell.execute_reply": "2021-04-01T04:37:22.081904Z"
    },
    "papermill": {
     "duration": 0.022315,
     "end_time": "2021-04-01T04:37:22.082670",
     "exception": false,
     "start_time": "2021-04-01T04:37:22.060355",
     "status": "completed"
    },
    "tags": []
   },
   "outputs": [
    {
     "name": "stdout",
     "output_type": "stream",
     "text": [
      "b'\\xa7A\\xa6n'\n",
      "data type: <class 'bytes'>\n"
     ]
    }
   ],
   "source": [
    "sample_entry = b'\\xa7A\\xa6n'\n",
    "print(sample_entry)\n",
    "print('data type:', type(sample_entry))"
   ]
  },
  {
   "cell_type": "markdown",
   "id": "presidential-tsunami",
   "metadata": {
    "papermill": {
     "duration": 0.013096,
     "end_time": "2021-04-01T04:37:22.110744",
     "exception": false,
     "start_time": "2021-04-01T04:37:22.097648",
     "status": "completed"
    },
    "tags": []
   },
   "source": [
    "You notice that it doesn't use the standard UTF-8 encoding. \n",
    "\n",
    "Use the next code cell to create a variable `new_entry` that changes the encoding from `\"big5-tw\"` to `\"utf-8\"`.  `new_entry` should have the bytes datatype."
   ]
  },
  {
   "cell_type": "code",
   "execution_count": 4,
   "id": "collect-strip",
   "metadata": {
    "execution": {
     "iopub.execute_input": "2021-04-01T04:37:22.143541Z",
     "iopub.status.busy": "2021-04-01T04:37:22.142794Z",
     "iopub.status.idle": "2021-04-01T04:37:22.149896Z",
     "shell.execute_reply": "2021-04-01T04:37:22.150461Z"
    },
    "papermill": {
     "duration": 0.026467,
     "end_time": "2021-04-01T04:37:22.150636",
     "exception": false,
     "start_time": "2021-04-01T04:37:22.124169",
     "status": "completed"
    },
    "tags": []
   },
   "outputs": [
    {
     "data": {
      "application/javascript": [
       "parent.postMessage({\"jupyterEvent\": \"custom.exercise_interaction\", \"data\": {\"outcomeType\": 1, \"valueTowardsCompletion\": 0.3333333333333333, \"interactionType\": 1, \"questionType\": 1, \"questionId\": \"1_EncodingsIntro\", \"learnToolsVersion\": \"0.3.4\", \"failureMessage\": \"\", \"exceptionClass\": \"\", \"trace\": \"\"}}, \"*\")"
      ],
      "text/plain": [
       "<IPython.core.display.Javascript object>"
      ]
     },
     "metadata": {},
     "output_type": "display_data"
    },
    {
     "data": {
      "text/markdown": [
       "<span style=\"color:#33cc33\">Correct</span>"
      ],
      "text/plain": [
       "Correct"
      ]
     },
     "metadata": {},
     "output_type": "display_data"
    }
   ],
   "source": [
    "before = sample_entry.decode(\"big5-tw\")\n",
    "new_entry = before.encode()\n",
    "before\n",
    "new_entry\n",
    "type(new_entry)\n",
    "# Check your answer\n",
    "q1.check()"
   ]
  },
  {
   "cell_type": "code",
   "execution_count": 5,
   "id": "strategic-struggle",
   "metadata": {
    "execution": {
     "iopub.execute_input": "2021-04-01T04:37:22.184929Z",
     "iopub.status.busy": "2021-04-01T04:37:22.184195Z",
     "iopub.status.idle": "2021-04-01T04:37:22.192638Z",
     "shell.execute_reply": "2021-04-01T04:37:22.191973Z"
    },
    "papermill": {
     "duration": 0.026688,
     "end_time": "2021-04-01T04:37:22.192781",
     "exception": false,
     "start_time": "2021-04-01T04:37:22.166093",
     "status": "completed"
    },
    "tags": []
   },
   "outputs": [
    {
     "data": {
      "application/javascript": [
       "parent.postMessage({\"jupyterEvent\": \"custom.exercise_interaction\", \"data\": {\"interactionType\": 3, \"questionType\": 1, \"questionId\": \"1_EncodingsIntro\", \"learnToolsVersion\": \"0.3.4\", \"valueTowardsCompletion\": 0.0, \"failureMessage\": \"\", \"exceptionClass\": \"\", \"trace\": \"\", \"outcomeType\": 4}}, \"*\")"
      ],
      "text/plain": [
       "<IPython.core.display.Javascript object>"
      ]
     },
     "metadata": {},
     "output_type": "display_data"
    },
    {
     "data": {
      "text/markdown": [
       "<span style=\"color:#33cc99\">Solution:</span> \n",
       "```python\n",
       "before = sample_entry.decode(\"big5-tw\")\n",
       "new_entry = before.encode()\n",
       "\n",
       "```"
      ],
      "text/plain": [
       "Solution: \n",
       "```python\n",
       "before = sample_entry.decode(\"big5-tw\")\n",
       "new_entry = before.encode()\n",
       "\n",
       "```"
      ]
     },
     "metadata": {},
     "output_type": "display_data"
    }
   ],
   "source": [
    "# Lines below will give you a hint or solution code\n",
    "#q1.hint()\n",
    "q1.solution()"
   ]
  },
  {
   "cell_type": "markdown",
   "id": "variable-harvey",
   "metadata": {
    "papermill": {
     "duration": 0.015606,
     "end_time": "2021-04-01T04:37:22.225875",
     "exception": false,
     "start_time": "2021-04-01T04:37:22.210269",
     "status": "completed"
    },
    "tags": []
   },
   "source": [
    "# 2) Reading in files with encoding problems\n",
    "\n",
    "Use the code cell below to read in this file at path `\"../input/fatal-police-shootings-in-the-us/PoliceKillingsUS.csv\"`.  \n",
    "\n",
    "Figure out what the correct encoding should be and read in the file to a DataFrame `police_killings`."
   ]
  },
  {
   "cell_type": "code",
   "execution_count": 6,
   "id": "reduced-detector",
   "metadata": {
    "execution": {
     "iopub.execute_input": "2021-04-01T04:37:22.261020Z",
     "iopub.status.busy": "2021-04-01T04:37:22.260201Z",
     "iopub.status.idle": "2021-04-01T04:37:22.293141Z",
     "shell.execute_reply": "2021-04-01T04:37:22.292566Z"
    },
    "papermill": {
     "duration": 0.051718,
     "end_time": "2021-04-01T04:37:22.293291",
     "exception": false,
     "start_time": "2021-04-01T04:37:22.241573",
     "status": "completed"
    },
    "tags": []
   },
   "outputs": [
    {
     "name": "stdout",
     "output_type": "stream",
     "text": [
      "{'encoding': 'ascii', 'confidence': 1.0, 'language': ''}\n"
     ]
    },
    {
     "data": {
      "application/javascript": [
       "parent.postMessage({\"jupyterEvent\": \"custom.exercise_interaction\", \"data\": {\"outcomeType\": 1, \"valueTowardsCompletion\": 0.3333333333333333, \"interactionType\": 1, \"questionType\": 1, \"questionId\": \"2_ReadIn\", \"learnToolsVersion\": \"0.3.4\", \"failureMessage\": \"\", \"exceptionClass\": \"\", \"trace\": \"\"}}, \"*\")"
      ],
      "text/plain": [
       "<IPython.core.display.Javascript object>"
      ]
     },
     "metadata": {},
     "output_type": "display_data"
    },
    {
     "data": {
      "text/markdown": [
       "<span style=\"color:#33cc33\">Correct</span>"
      ],
      "text/plain": [
       "Correct"
      ]
     },
     "metadata": {},
     "output_type": "display_data"
    }
   ],
   "source": [
    "with open(\"../input/fatal-police-shootings-in-the-us/PoliceKillingsUS.csv\", 'rb') as rawdata:\n",
    "    result = chardet.detect(rawdata.read(10000))\n",
    "    \n",
    "print(result)\n",
    "police_killings = pd.read_csv(\"../input/fatal-police-shootings-in-the-us/PoliceKillingsUS.csv\", encoding = 'Windows-`1252')\n",
    "\n",
    "# Check your answer\n",
    "q2.check()"
   ]
  },
  {
   "cell_type": "markdown",
   "id": "unlikely-passing",
   "metadata": {
    "papermill": {
     "duration": 0.01683,
     "end_time": "2021-04-01T04:37:22.327384",
     "exception": false,
     "start_time": "2021-04-01T04:37:22.310554",
     "status": "completed"
    },
    "tags": []
   },
   "source": [
    "Feel free to use any additional code cells for supplemental work.  To get credit for finishing this question, you'll need to run `q2.check()` and get a result of **Correct**."
   ]
  },
  {
   "cell_type": "code",
   "execution_count": 7,
   "id": "seeing-metallic",
   "metadata": {
    "execution": {
     "iopub.execute_input": "2021-04-01T04:37:22.369643Z",
     "iopub.status.busy": "2021-04-01T04:37:22.368369Z",
     "iopub.status.idle": "2021-04-01T04:37:22.371058Z",
     "shell.execute_reply": "2021-04-01T04:37:22.371530Z"
    },
    "papermill": {
     "duration": 0.027177,
     "end_time": "2021-04-01T04:37:22.371710",
     "exception": false,
     "start_time": "2021-04-01T04:37:22.344533",
     "status": "completed"
    },
    "tags": []
   },
   "outputs": [],
   "source": [
    "# (Optional) Use this code cell for any additional work."
   ]
  },
  {
   "cell_type": "code",
   "execution_count": 8,
   "id": "beneficial-hands",
   "metadata": {
    "execution": {
     "iopub.execute_input": "2021-04-01T04:37:22.411261Z",
     "iopub.status.busy": "2021-04-01T04:37:22.410219Z",
     "iopub.status.idle": "2021-04-01T04:37:22.417497Z",
     "shell.execute_reply": "2021-04-01T04:37:22.417994Z"
    },
    "papermill": {
     "duration": 0.029168,
     "end_time": "2021-04-01T04:37:22.418176",
     "exception": false,
     "start_time": "2021-04-01T04:37:22.389008",
     "status": "completed"
    },
    "tags": []
   },
   "outputs": [
    {
     "data": {
      "application/javascript": [
       "parent.postMessage({\"jupyterEvent\": \"custom.exercise_interaction\", \"data\": {\"interactionType\": 3, \"questionType\": 1, \"questionId\": \"2_ReadIn\", \"learnToolsVersion\": \"0.3.4\", \"valueTowardsCompletion\": 0.0, \"failureMessage\": \"\", \"exceptionClass\": \"\", \"trace\": \"\", \"outcomeType\": 4}}, \"*\")"
      ],
      "text/plain": [
       "<IPython.core.display.Javascript object>"
      ]
     },
     "metadata": {},
     "output_type": "display_data"
    },
    {
     "data": {
      "text/markdown": [
       "<span style=\"color:#33cc99\">Solution:</span> \n",
       "```python\n",
       "police_killings = pd.read_csv(\"../input/fatal-police-shootings-in-the-us/PoliceKillingsUS.csv\", encoding='Windows-1252')\n",
       "\n",
       "```"
      ],
      "text/plain": [
       "Solution: \n",
       "```python\n",
       "police_killings = pd.read_csv(\"../input/fatal-police-shootings-in-the-us/PoliceKillingsUS.csv\", encoding='Windows-1252')\n",
       "\n",
       "```"
      ]
     },
     "metadata": {},
     "output_type": "display_data"
    }
   ],
   "source": [
    "# Lines below will give you a hint or solution code\n",
    "#q2.hint()\n",
    "q2.solution()"
   ]
  },
  {
   "cell_type": "markdown",
   "id": "raised-grace",
   "metadata": {
    "papermill": {
     "duration": 0.018829,
     "end_time": "2021-04-01T04:37:22.455393",
     "exception": false,
     "start_time": "2021-04-01T04:37:22.436564",
     "status": "completed"
    },
    "tags": []
   },
   "source": [
    "# 3) Saving your files with UTF-8 encoding\n",
    "\n",
    "Save a version of the police killings dataset to CSV with UTF-8 encoding.  Your answer will be marked correct after saving this file.  \n",
    "\n",
    "Note: When using the `to_csv()` method, supply only the name of the file (e.g., `\"my_file.csv\"`).  This saves the file at the filepath `\"/kaggle/working/my_file.csv\"`."
   ]
  },
  {
   "cell_type": "code",
   "execution_count": 9,
   "id": "featured-speed",
   "metadata": {
    "execution": {
     "iopub.execute_input": "2021-04-01T04:37:22.497002Z",
     "iopub.status.busy": "2021-04-01T04:37:22.496025Z",
     "iopub.status.idle": "2021-04-01T04:37:22.543688Z",
     "shell.execute_reply": "2021-04-01T04:37:22.542779Z"
    },
    "papermill": {
     "duration": 0.06984,
     "end_time": "2021-04-01T04:37:22.543866",
     "exception": false,
     "start_time": "2021-04-01T04:37:22.474026",
     "status": "completed"
    },
    "tags": []
   },
   "outputs": [
    {
     "data": {
      "application/javascript": [
       "parent.postMessage({\"jupyterEvent\": \"custom.exercise_interaction\", \"data\": {\"outcomeType\": 1, \"valueTowardsCompletion\": 0.3333333333333333, \"interactionType\": 1, \"questionType\": 2, \"questionId\": \"3_SaveCSV\", \"learnToolsVersion\": \"0.3.4\", \"failureMessage\": \"\", \"exceptionClass\": \"\", \"trace\": \"\"}}, \"*\")"
      ],
      "text/plain": [
       "<IPython.core.display.Javascript object>"
      ]
     },
     "metadata": {},
     "output_type": "display_data"
    },
    {
     "data": {
      "text/markdown": [
       "<span style=\"color:#33cc33\">Correct</span>"
      ],
      "text/plain": [
       "Correct"
      ]
     },
     "metadata": {},
     "output_type": "display_data"
    }
   ],
   "source": [
    "# TODO: Save the police killings dataset to CSV\n",
    "police_killings.to_csv(\"my_file.csv\")\n",
    "\n",
    "# Check your answer\n",
    "q3.check()"
   ]
  },
  {
   "cell_type": "code",
   "execution_count": 10,
   "id": "friendly-delta",
   "metadata": {
    "execution": {
     "iopub.execute_input": "2021-04-01T04:37:22.589336Z",
     "iopub.status.busy": "2021-04-01T04:37:22.588253Z",
     "iopub.status.idle": "2021-04-01T04:37:22.591653Z",
     "shell.execute_reply": "2021-04-01T04:37:22.590993Z"
    },
    "papermill": {
     "duration": 0.027543,
     "end_time": "2021-04-01T04:37:22.591799",
     "exception": false,
     "start_time": "2021-04-01T04:37:22.564256",
     "status": "completed"
    },
    "tags": []
   },
   "outputs": [],
   "source": [
    "# Lines below will give you a hint or solution code\n",
    "#q3.hint()\n",
    "#q3.solution()"
   ]
  },
  {
   "cell_type": "markdown",
   "id": "social-publisher",
   "metadata": {
    "papermill": {
     "duration": 0.019362,
     "end_time": "2021-04-01T04:37:22.630875",
     "exception": false,
     "start_time": "2021-04-01T04:37:22.611513",
     "status": "completed"
    },
    "tags": []
   },
   "source": [
    "# (Optional) More practice\n",
    "\n",
    "Check out [this dataset of files in different character encodings](https://www.kaggle.com/rtatman/character-encoding-examples). Can you read in all the files with their original encodings and them save them out as UTF-8 files?\n",
    "\n",
    "If you have a file that's in UTF-8 but has just a couple of weird-looking characters in it, you can try out the [ftfy module](https://ftfy.readthedocs.io/en/latest/#) and see if it helps. \n",
    "\n",
    "# Keep going\n",
    "\n",
    "In the final lesson, learn how to [**clean up inconsistent text entries**](https://www.kaggle.com/alexisbcook/inconsistent-data-entry) in your dataset."
   ]
  },
  {
   "cell_type": "markdown",
   "id": "danish-impossible",
   "metadata": {
    "papermill": {
     "duration": 0.020276,
     "end_time": "2021-04-01T04:37:22.671404",
     "exception": false,
     "start_time": "2021-04-01T04:37:22.651128",
     "status": "completed"
    },
    "tags": []
   },
   "source": [
    "---\n",
    "\n",
    "\n",
    "\n",
    "\n",
    "*Have questions or comments? Visit the [Learn Discussion forum](https://www.kaggle.com/learn-forum/172650) to chat with other Learners.*"
   ]
  }
 ],
 "metadata": {
  "kernelspec": {
   "display_name": "Python 3",
   "language": "python",
   "name": "python3"
  },
  "language_info": {
   "codemirror_mode": {
    "name": "ipython",
    "version": 3
   },
   "file_extension": ".py",
   "mimetype": "text/x-python",
   "name": "python",
   "nbconvert_exporter": "python",
   "pygments_lexer": "ipython3",
   "version": "3.7.9"
  },
  "papermill": {
   "default_parameters": {},
   "duration": 8.50712,
   "end_time": "2021-04-01T04:37:23.301587",
   "environment_variables": {},
   "exception": null,
   "input_path": "__notebook__.ipynb",
   "output_path": "__notebook__.ipynb",
   "parameters": {},
   "start_time": "2021-04-01T04:37:14.794467",
   "version": "2.3.2"
  }
 },
 "nbformat": 4,
 "nbformat_minor": 5
}
